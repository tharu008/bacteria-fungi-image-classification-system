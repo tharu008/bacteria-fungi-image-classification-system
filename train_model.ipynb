{
  "nbformat": 4,
  "nbformat_minor": 0,
  "metadata": {
    "colab": {
      "provenance": []
    },
    "kernelspec": {
      "name": "python3",
      "display_name": "Python 3"
    },
    "language_info": {
      "name": "python"
    }
  },
  "cells": [
    {
      "cell_type": "code",
      "execution_count": null,
      "metadata": {
        "id": "4fwaETMqJrzC"
      },
      "outputs": [],
      "source": [
        "!wget --no-check-certificate \\\n",
        "    C:\\Users\\User\\National School of Busness Management\\Final year project \\\n",
        "    -O /tmp/Dataset.rar"
      ]
    },
    {
      "cell_type": "markdown",
      "source": [
        "the content of the zip is extracted to the base directory /tmp/Dataset.zip. The extracted file contains training and validation data separately, which in turn each contain Aspergillus, Penicillium, Proteus and Staphylococcus."
      ],
      "metadata": {
        "id": "4sTOMt5lOl2w"
      }
    },
    {
      "cell_type": "code",
      "source": [
        "pip install rarfile"
      ],
      "metadata": {
        "colab": {
          "base_uri": "https://localhost:8080/"
        },
        "id": "jClydI0FrJeA",
        "outputId": "fe4cc3f2-4966-4c89-b3a8-c7d7d61cde18"
      },
      "execution_count": null,
      "outputs": [
        {
          "output_type": "stream",
          "name": "stdout",
          "text": [
            "Collecting rarfile\n",
            "  Downloading rarfile-4.0-py3-none-any.whl (28 kB)\n",
            "Installing collected packages: rarfile\n",
            "Successfully installed rarfile-4.0\n"
          ]
        }
      ]
    },
    {
      "cell_type": "code",
      "source": [
        "#import os   #provides functions for interacting with the operating system\n",
        "import rarfile\n",
        "\n",
        "local_rar = '/tmp/Dataset.rar'\n",
        "rar_ref = rarfile.RarFile(local_rar, 'r')\n",
        "rar_ref.extractall('/tmp')\n",
        "rar_ref.close()\n"
      ],
      "metadata": {
        "id": "v6U5O7B5OggA"
      },
      "execution_count": null,
      "outputs": []
    },
    {
      "cell_type": "markdown",
      "source": [
        "Defining each sub directory"
      ],
      "metadata": {
        "id": "ezXpYbwHPKK3"
      }
    },
    {
      "cell_type": "code",
      "source": [
        "base_dir = '/tmp/Dataset'\n",
        "train_dir = os.path.join(base_dir, 'Train')\n",
        "validation_dir = os.path.join(base_dir, 'Validation')\n",
        "\n",
        "#directory with training Aspergillus images\n",
        "train_aspergillus_dir = os.path.join(train_dir, 'Aspergillus')\n",
        "\n",
        "#directory with training Penicillium images\n",
        "train_penicillium_dir = os.path.join(train_dir, 'Penicillium')\n",
        "\n",
        "#directory with training Proteus images\n",
        "train_proteus_dir = os.path.join(train_dir, 'Proteus')\n",
        "\n",
        "#directory with training Staphylococcus images\n",
        "train_staphylococcus_dir = os.path.join(train_dir, 'Staphylococcus')\n",
        "\n",
        "\n",
        "\n",
        "#directory with validation Aspergillus images\n",
        "validation_aspergillus_dir = os.path.join(validation_dir, 'Aspergillus')\n",
        "\n",
        "#directory with validation Penicillium images\n",
        "validation_penicillium_dir = os.path.join(validation_dir, 'Penicillium')\n",
        "\n",
        "#directory with validation Proteus images\n",
        "validation_proteus_dir = os.path.join(validation_dir, 'Proteus')\n",
        "\n",
        "#directory with validation Staphylococcus images\n",
        "validation_staphylococcus_dir = os.path.join(validation_dir, 'Staphylococcus')"
      ],
      "metadata": {
        "id": "z1NLOwb0PLQO"
      },
      "execution_count": null,
      "outputs": []
    }
  ]
}